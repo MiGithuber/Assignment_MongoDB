{
 "cells": [
  {
   "cell_type": "markdown",
   "id": "5e5dcf54-3a99-4262-8085-85ebb54d6f68",
   "metadata": {},
   "source": [
    "#1"
   ]
  },
  {
   "cell_type": "markdown",
   "id": "7e4aa2f3-db8e-4cfc-9b5e-fb23390de095",
   "metadata": {},
   "source": [
    "MongoDB is a non-relational document database that provides support for JSON-like storage. The MongoDB database has a flexible data model that enables you to store unstructured data, and it provides full indexing support, and replication with rich and intuitive APIs.\n",
    "Lesser Server Cost and Open-Source NoSQL databases are cheap and open source. NoSQL database implementation is easy and typically uses cheap servers to manage the exploding data and transaction while RDBMS databases are expensive and it uses big servers and storage systems."
   ]
  },
  {
   "cell_type": "markdown",
   "id": "35058caa-dbd2-4e8f-8c66-b2b8c475a8ec",
   "metadata": {},
   "source": [
    "#2"
   ]
  },
  {
   "cell_type": "markdown",
   "id": "6f174d43-a7e0-4184-81e1-1078a4cd4ed0",
   "metadata": {},
   "source": [
    "MongoDB supports field queries, range queries, and regular expression searches. Queries can return specific fields and also account for user-defined functions. This is made possible because MongoDB indexes BSON documents and uses the MongoDB Query Language (MQL)."
   ]
  },
  {
   "cell_type": "markdown",
   "id": "ba1c33c6-99b1-40aa-9687-2d19f9a8a2c1",
   "metadata": {},
   "source": [
    "#3"
   ]
  },
  {
   "cell_type": "raw",
   "id": "bdb0d82d-c443-46d7-a906-4fdeb4d5352e",
   "metadata": {},
   "source": [
    "pip install pymongo\n",
    "import pymongo\n",
    "client=pymongo.MongoClient(\"import/copy connection url from mongodb\")\n",
    "db=client.test\n",
    "db=client[\"collection\"]\n",
    "coll_create=db[\"my_records\"]\n"
   ]
  },
  {
   "cell_type": "markdown",
   "id": "2fafdaab-1ad4-4179-9c32-6345f50f4e11",
   "metadata": {},
   "source": [
    "#4"
   ]
  },
  {
   "cell_type": "raw",
   "id": "96f6fab6-b32a-4fee-97aa-5d7f4e278a9a",
   "metadata": {},
   "source": [
    "data={\"name\":\"mihir\",\"class\":\"pwskills\",\"age\"::22}\n",
    "coll_create.insert_one(data)\n",
    "#to insert many records\n",
    "data1=[{\"name\":\"mihir\",\"class\":\"pwskills\",\"age\"::22}\n",
    "{\"name\":\"mahesh\",\"class\":\"pwskills\",\"age\"::42}\n",
    "{\"name\":\"satish\",\"class\":\"pwskills\",\"age\"::62}]\n",
    "coll_create.insert_many(data1)"
   ]
  },
  {
   "cell_type": "raw",
   "id": "1f5edd39-155e-4142-8a4f-ca7939528404",
   "metadata": {},
   "source": [
    "# to find the data all the data\n",
    "for i in coll_create.find()\n",
    "print(i)\n",
    "#To find the specific data\n",
    "for i in coll_create.find(\"class\":\"pwskills\")\n",
    "print (i)"
   ]
  },
  {
   "cell_type": "markdown",
   "id": "d6be33ef-7f74-4acb-a657-c69044a83451",
   "metadata": {},
   "source": [
    "#5"
   ]
  },
  {
   "cell_type": "raw",
   "id": "84fc417c-beeb-40a5-b8c7-db72ea7b843c",
   "metadata": {},
   "source": [
    "# to find the data all the data\n",
    "for i in coll_create.find()\n",
    "print(i)\n",
    "#To find the specific data\n",
    "for i in coll_create.find(\"class\":\"pwskills\")\n",
    "print (i)"
   ]
  },
  {
   "cell_type": "markdown",
   "id": "32eb465d-5afa-436e-b3a7-eb5810efb43e",
   "metadata": {},
   "source": [
    "#6"
   ]
  },
  {
   "cell_type": "markdown",
   "id": "ac4c9de9-14d8-4fa2-aa5c-bacd25ad9191",
   "metadata": {},
   "source": [
    "The sort() method specifies the order in which the query returns the matching documents from the given collection. You must apply this method to the cursor before retrieving any documents from the database.\n",
    "coll_create.sort(data)"
   ]
  },
  {
   "cell_type": "markdown",
   "id": "64415b03-28ff-4c80-bd35-fd76274c1730",
   "metadata": {},
   "source": [
    "#7"
   ]
  },
  {
   "cell_type": "raw",
   "id": "6cf84ade-d3be-44e8-83e4-bfdfb99c7f2b",
   "metadata": {},
   "source": [
    "delete_one -  This is used to delete one record in the collection.\n",
    "delete_many - This is used to delete many records in the collection.\n",
    "drop() - This is used to delete the collection."
   ]
  }
 ],
 "metadata": {
  "kernelspec": {
   "display_name": "Python 3 (ipykernel)",
   "language": "python",
   "name": "python3"
  },
  "language_info": {
   "codemirror_mode": {
    "name": "ipython",
    "version": 3
   },
   "file_extension": ".py",
   "mimetype": "text/x-python",
   "name": "python",
   "nbconvert_exporter": "python",
   "pygments_lexer": "ipython3",
   "version": "3.10.8"
  }
 },
 "nbformat": 4,
 "nbformat_minor": 5
}
